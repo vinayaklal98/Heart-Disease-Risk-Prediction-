{
 "cells": [
  {
   "cell_type": "markdown",
   "metadata": {},
   "source": [
    "# Regression\n",
    "1. Regression predictive modeling is the task of approximating a mapping function (f) from input variables(X) to a continuous output variable(y).\n",
    "2. A continuous output variable is a real-value, such as a n integer or floating point value. These are often quantities, suchas amounts and sizes.\n",
    "3. For example,a house may be predicted to sell for a specific dollar value, perhaps in the range of $100,000 to $200,000.\n",
    "\n",
    "## Regression Algorithms\n",
    "1. Linear regression\n",
    "2. Support Vector Machines\n",
    "3. Random forest regression\n",
    "\n",
    "## Linear Regression\n",
    "1. Regression is a method of modelling a target value based on independent predictors.\n",
    "2. This method is mostly used for forecasting and finding out cause and effect relationship between variables.\n",
    "3. Regression techniques mostly differ based on the number of independent variables and the type of relation ship between the independent and dependent variables.\n",
    "![Linear Regression](lr.png)"
   ]
  },
  {
   "cell_type": "markdown",
   "metadata": {},
   "source": [
    "# Training the Model for Analysis"
   ]
  },
  {
   "cell_type": "code",
   "execution_count": 7,
   "metadata": {},
   "outputs": [
    {
     "name": "stdout",
     "output_type": "stream",
     "text": [
      "[[  2.  48. 236.  66.   0.   2.   0.]\n",
      " [  1.  48. 260.  51.   0.   2.   1.]\n",
      " [  1.  44. 187.  49.   1.   2.   0.]\n",
      " [  2.  42. 216.  57.   1.   2.   0.]\n",
      " [  2.  56. 156.  42.   0.   2.   0.]\n",
      " [  1.  44. 162.  57.   1.   2.   0.]\n",
      " [  1.  50. 244.  47.   0.   2.   0.]\n",
      " [  1.  48. 212.  30.   1.   2.   0.]\n",
      " [  2.  66. 202.  53.   0.   2.   1.]\n",
      " [  1.  63. 186.  46.   1.   2.   0.]]\n",
      "[[ 1.1]\n",
      " [ 7. ]\n",
      " [ 7. ]\n",
      " [ 0.4]\n",
      " [ 2.2]\n",
      " [ 3. ]\n",
      " [ 4.2]\n",
      " [17.4]\n",
      " [13.4]\n",
      " [17.3]]\n",
      "size of the dataset: 6644\n"
     ]
    }
   ],
   "source": [
    "import pandas as pd\n",
    "import numpy as np\n",
    "\n",
    "dataset=pd.read_csv('cardio_dataset.csv').values\n",
    "\n",
    "data=dataset[:,0:7]\n",
    "target=dataset[:,7]\n",
    "\n",
    "target=np.reshape(target, (-1,1)) # we provide columns as 1 but rows as -1 means unknown -- so it will make a array of n rows with each value as a single column\n",
    "\n",
    "print(data[:10])\n",
    "print(target[:10])\n",
    "print('size of the dataset:',len(dataset))"
   ]
  },
  {
   "cell_type": "code",
   "execution_count": 19,
   "metadata": {},
   "outputs": [],
   "source": [
    "from sklearn.model_selection import train_test_split\n",
    "\n",
    "train_data,test_data,train_target,test_target=train_test_split(data,target,test_size=0.1)"
   ]
  },
  {
   "cell_type": "code",
   "execution_count": 20,
   "metadata": {},
   "outputs": [],
   "source": [
    "from sklearn.linear_model import LinearRegression\n",
    "\n",
    "model=LinearRegression()\n",
    "\n",
    "model.fit(train_data,train_target)\n",
    "predicted_target=model.predict(test_data)"
   ]
  },
  {
   "cell_type": "code",
   "execution_count": 21,
   "metadata": {},
   "outputs": [
    {
     "name": "stdout",
     "output_type": "stream",
     "text": [
      "r2 score: 0.7677084973876125\n"
     ]
    }
   ],
   "source": [
    "from sklearn.metrics import r2_score\n",
    "\n",
    "r2=r2_score(test_target,predicted_target)\n",
    "print(\"r2 score:\",r2)"
   ]
  },
  {
   "cell_type": "code",
   "execution_count": 22,
   "metadata": {},
   "outputs": [
    {
     "name": "stdout",
     "output_type": "stream",
     "text": [
      "Actual Target: [[12.5 32.3  1.8  4.3 12.2 40.5 40.9  8.2  3.2  0.5]]\n",
      "Predicted Target: [[17.09511573 28.41053369  3.43936217  0.417671   24.93327013 33.83998292\n",
      "  32.6735837  13.38437588  3.46912742 -6.03127184]]\n"
     ]
    }
   ],
   "source": [
    "print('Actual Target:',test_target[:10].T)\n",
    "print('Predicted Target:',predicted_target[:10].T)"
   ]
  },
  {
   "cell_type": "code",
   "execution_count": 23,
   "metadata": {},
   "outputs": [
    {
     "data": {
      "text/plain": [
       "['heart_risk_prediction_regression_model.sav']"
      ]
     },
     "execution_count": 23,
     "metadata": {},
     "output_type": "execute_result"
    }
   ],
   "source": [
    "import joblib\n",
    "\n",
    "joblib.dump(model,'heart_risk_prediction_regression_model.sav')"
   ]
  },
  {
   "cell_type": "markdown",
   "metadata": {},
   "source": [
    "# Making the Web Application"
   ]
  },
  {
   "cell_type": "markdown",
   "metadata": {},
   "source": [
    "### The Main Python file\n",
    "from flask import Flask,render_template,request\n",
    "import joblib\n",
    "import numpy as np\n",
    "import warnings\n",
    "warnings.filterwarnings(\"ignore\")\n",
    "\n",
    "model=joblib.load('heart_risk_prediction_regression_model.sav')\n",
    "\n",
    "app = Flask(__name__)\n",
    "\n",
    "@app.route('/',methods=['GET'])\n",
    "def index():\n",
    "    return render_template(\"patient_details.html\")\n",
    "\n",
    "@app.route('/getresults',methods=['GET','POST'])\n",
    "def results():\n",
    "    \n",
    "    result=request.form \n",
    "    name=result['name']\n",
    "    gender=float(result['gender'])\n",
    "    age=float(result['age'])\n",
    "    tc=float(result['tc'])\n",
    "    hdl=float(result['hdl']) \n",
    "    sbp=float(result['sbp']) \n",
    "    smoke=float(result['smoke'])\n",
    "    bpm=float(result['bpm'])\n",
    "    diab=float(result['diab'])\n",
    "    \n",
    "    test_data=np.array([gender,age,tc,hdl,smoke,bpm,diab]).reshape(-1,1)\n",
    "    \n",
    "    prediction=model.predict(test_data) \n",
    "    prediction = max(prediction,0)\n",
    "    \n",
    "    resultDict={\"name\":name,\"risk\":round(prediction[0][0],2)}\n",
    "    \n",
    "    return render_template('patient_results.html',results=resultDict)\n",
    "\n",
    "if __name__ == \"__main__\":\n",
    "    app.run(debug=True)"
   ]
  },
  {
   "cell_type": "markdown",
   "metadata": {},
   "source": [
    "### The Get Details File\n",
    "<!DOCTYPE html>\n",
    "<html>\n",
    "<head>\n",
    "\t<title>Patient Details</title>\n",
    "</head>\n",
    "<body>\n",
    "\n",
    "\t<h1>Heart Disease Risk Predictor</h1>\n",
    "\t<p><b>Please fill this form with your correct and true details</b></p>\n",
    "\n",
    "\t<form action=\"http://127.0.0.1:5000/getresults\" method=\"POST\">\n",
    "\t\t\n",
    "\t\t<p>Name <input type=\"text\" name=\"name\"/> </p>\n",
    "\t\t<p>Gender (1-male,2-Female) <input type=\"text\" name=\"gender\"/> </p>\n",
    "\t\t<p>Age <input type=\"text\" name=\"age\"/> </p>\n",
    "\t\t<p>TC(mg/dL) <input type=\"text\" name=\"tc\"/> </p>\n",
    "\t\t<p>HDL(mg/dL) <input type=\"text\" name=\"hdl\"/> </p>\n",
    "\t\t<p>SBP(mm Hg) <input type=\"text\" name=\"sbp\"/> </p>\n",
    "\t\t<p>Smoke(1-yes,0-no) <input type=\"text\" name=\"smoke\"/> </p>\n",
    "\t\t<p>Blood Pressure Medication(1-Not Taking,2-Taking) <input type=\"text\" name=\"bpm\"/> </p>\n",
    "\t\t<p>Diabetics(1-yes,0-no) <input type=\"text\" name=\"diab\"/> </p>\n",
    "\n",
    "\t\t<p><input type=\"submit\" value=\"Submit Details\"/></p>\n",
    "\n",
    "\t</form>\n",
    "\n",
    "</body>\n",
    "</html>"
   ]
  },
  {
   "cell_type": "markdown",
   "metadata": {},
   "source": [
    "![Details](details.jpg)"
   ]
  },
  {
   "cell_type": "markdown",
   "metadata": {},
   "source": [
    "### The Results File\n",
    "< !DOCTYPE html><br>\n",
    "< html><br>\n",
    "< head><br>\n",
    "\t< title>Results< /title><br>\n",
    "< /head><br>\n",
    "< body><br>\n",
    "\t< h1>Results Sheet< /h1><br>\n",
    "\t< p>Name: {{results.name}}< /p><br>\n",
    "\t< p>Risk Level: {{results.risk}}%< /p><br>\n",
    "< /body><br>\n",
    "< /html>"
   ]
  },
  {
   "cell_type": "markdown",
   "metadata": {},
   "source": [
    "![Results](results.jpg)"
   ]
  }
 ],
 "metadata": {
  "kernelspec": {
   "display_name": "Python 3",
   "language": "python",
   "name": "python3"
  },
  "language_info": {
   "codemirror_mode": {
    "name": "ipython",
    "version": 3
   },
   "file_extension": ".py",
   "mimetype": "text/x-python",
   "name": "python",
   "nbconvert_exporter": "python",
   "pygments_lexer": "ipython3",
   "version": "3.8.3"
  }
 },
 "nbformat": 4,
 "nbformat_minor": 4
}
